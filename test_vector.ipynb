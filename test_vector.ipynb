{
 "nbformat": 4,
 "nbformat_minor": 0,
 "metadata": {
  "colab": {
   "provenance": []
  },
  "kernelspec": {
   "name": "python3",
   "display_name": "Python 3 (ipykernel)",
   "language": "python"
  },
  "language_info": {
   "name": "python"
  }
 },
 "cells": [
  {
   "cell_type": "code",
   "metadata": {
    "colab": {
     "base_uri": "https://localhost:8080/"
    },
    "id": "nY6UyI060JXi",
    "outputId": "42f81d27-22ed-48d4-e974-0f4524963d52",
    "ExecuteTime": {
     "end_time": "2024-10-25T17:00:41.819027Z",
     "start_time": "2024-10-25T17:00:40.299012Z"
    }
   },
   "source": [
    "!pip install deepface"
   ],
   "outputs": [
    {
     "name": "stdout",
     "output_type": "stream",
     "text": [
      "/bin/bash: warning: setlocale: LC_ALL: cannot change locale (en_US.UTF-8)\r\n",
      "Defaulting to user installation because normal site-packages is not writeable\r\n",
      "Requirement already satisfied: deepface in /home/duong/.local/lib/python3.10/site-packages (0.0.93)\r\n",
      "Requirement already satisfied: requests>=2.27.1 in /home/duong/.local/lib/python3.10/site-packages (from deepface) (2.32.3)\r\n",
      "Requirement already satisfied: numpy>=1.14.0 in /home/duong/.local/lib/python3.10/site-packages (from deepface) (1.26.3)\r\n",
      "Requirement already satisfied: pandas>=0.23.4 in /home/duong/.local/lib/python3.10/site-packages (from deepface) (2.2.3)\r\n",
      "Requirement already satisfied: gdown>=3.10.1 in /home/duong/.local/lib/python3.10/site-packages (from deepface) (5.2.0)\r\n",
      "Requirement already satisfied: tqdm>=4.30.0 in /home/duong/.local/lib/python3.10/site-packages (from deepface) (4.66.5)\r\n",
      "Requirement already satisfied: Pillow>=5.2.0 in /home/duong/.local/lib/python3.10/site-packages (from deepface) (10.2.0)\r\n",
      "Requirement already satisfied: opencv-python>=4.5.5.64 in /home/duong/.local/lib/python3.10/site-packages (from deepface) (4.10.0.84)\r\n",
      "Requirement already satisfied: tensorflow>=1.9.0 in /home/duong/.local/lib/python3.10/site-packages (from deepface) (2.18.0)\r\n",
      "Requirement already satisfied: keras>=2.2.0 in /home/duong/.local/lib/python3.10/site-packages (from deepface) (3.5.0)\r\n",
      "Requirement already satisfied: Flask>=1.1.2 in /home/duong/.local/lib/python3.10/site-packages (from deepface) (3.0.3)\r\n",
      "Requirement already satisfied: flask-cors>=4.0.1 in /home/duong/.local/lib/python3.10/site-packages (from deepface) (5.0.0)\r\n",
      "Requirement already satisfied: mtcnn>=0.1.0 in /home/duong/.local/lib/python3.10/site-packages (from deepface) (1.0.0)\r\n",
      "Requirement already satisfied: retina-face>=0.0.1 in /home/duong/.local/lib/python3.10/site-packages (from deepface) (0.0.17)\r\n",
      "Requirement already satisfied: fire>=0.4.0 in /home/duong/.local/lib/python3.10/site-packages (from deepface) (0.7.0)\r\n",
      "Requirement already satisfied: gunicorn>=20.1.0 in /home/duong/.local/lib/python3.10/site-packages (from deepface) (23.0.0)\r\n",
      "Requirement already satisfied: termcolor in /home/duong/.local/lib/python3.10/site-packages (from fire>=0.4.0->deepface) (2.4.0)\r\n",
      "Requirement already satisfied: Werkzeug>=3.0.0 in /home/duong/.local/lib/python3.10/site-packages (from Flask>=1.1.2->deepface) (3.0.4)\r\n",
      "Requirement already satisfied: Jinja2>=3.1.2 in /home/duong/.local/lib/python3.10/site-packages (from Flask>=1.1.2->deepface) (3.1.3)\r\n",
      "Requirement already satisfied: itsdangerous>=2.1.2 in /home/duong/.local/lib/python3.10/site-packages (from Flask>=1.1.2->deepface) (2.2.0)\r\n",
      "Requirement already satisfied: click>=8.1.3 in /home/duong/.local/lib/python3.10/site-packages (from Flask>=1.1.2->deepface) (8.1.7)\r\n",
      "Requirement already satisfied: blinker>=1.6.2 in /home/duong/.local/lib/python3.10/site-packages (from Flask>=1.1.2->deepface) (1.8.2)\r\n",
      "Requirement already satisfied: beautifulsoup4 in /home/duong/.local/lib/python3.10/site-packages (from gdown>=3.10.1->deepface) (4.12.3)\r\n",
      "Requirement already satisfied: filelock in /home/duong/.local/lib/python3.10/site-packages (from gdown>=3.10.1->deepface) (3.13.1)\r\n",
      "Requirement already satisfied: packaging in /home/duong/.local/lib/python3.10/site-packages (from gunicorn>=20.1.0->deepface) (24.1)\r\n",
      "Requirement already satisfied: absl-py in /home/duong/.local/lib/python3.10/site-packages (from keras>=2.2.0->deepface) (2.1.0)\r\n",
      "Requirement already satisfied: rich in /home/duong/.local/lib/python3.10/site-packages (from keras>=2.2.0->deepface) (13.7.1)\r\n",
      "Requirement already satisfied: namex in /home/duong/.local/lib/python3.10/site-packages (from keras>=2.2.0->deepface) (0.0.8)\r\n",
      "Requirement already satisfied: h5py in /home/duong/.local/lib/python3.10/site-packages (from keras>=2.2.0->deepface) (3.11.0)\r\n",
      "Requirement already satisfied: optree in /home/duong/.local/lib/python3.10/site-packages (from keras>=2.2.0->deepface) (0.12.1)\r\n",
      "Requirement already satisfied: ml-dtypes in /home/duong/.local/lib/python3.10/site-packages (from keras>=2.2.0->deepface) (0.4.1)\r\n",
      "Requirement already satisfied: joblib>=1.4.2 in /home/duong/.local/lib/python3.10/site-packages (from mtcnn>=0.1.0->deepface) (1.4.2)\r\n",
      "Requirement already satisfied: lz4>=4.3.3 in /home/duong/.local/lib/python3.10/site-packages (from mtcnn>=0.1.0->deepface) (4.3.3)\r\n",
      "Requirement already satisfied: python-dateutil>=2.8.2 in /home/duong/.local/lib/python3.10/site-packages (from pandas>=0.23.4->deepface) (2.9.0.post0)\r\n",
      "Requirement already satisfied: pytz>=2020.1 in /home/duong/.local/lib/python3.10/site-packages (from pandas>=0.23.4->deepface) (2024.2)\r\n",
      "Requirement already satisfied: tzdata>=2022.7 in /home/duong/.local/lib/python3.10/site-packages (from pandas>=0.23.4->deepface) (2024.2)\r\n",
      "Requirement already satisfied: charset-normalizer<4,>=2 in /home/duong/.local/lib/python3.10/site-packages (from requests>=2.27.1->deepface) (3.3.2)\r\n",
      "Requirement already satisfied: idna<4,>=2.5 in /home/duong/.local/lib/python3.10/site-packages (from requests>=2.27.1->deepface) (3.7)\r\n",
      "Requirement already satisfied: urllib3<3,>=1.21.1 in /home/duong/.local/lib/python3.10/site-packages (from requests>=2.27.1->deepface) (2.2.3)\r\n",
      "Requirement already satisfied: certifi>=2017.4.17 in /home/duong/.local/lib/python3.10/site-packages (from requests>=2.27.1->deepface) (2024.7.4)\r\n",
      "Requirement already satisfied: astunparse>=1.6.0 in /home/duong/.local/lib/python3.10/site-packages (from tensorflow>=1.9.0->deepface) (1.6.3)\r\n",
      "Requirement already satisfied: flatbuffers>=24.3.25 in /home/duong/.local/lib/python3.10/site-packages (from tensorflow>=1.9.0->deepface) (24.3.25)\r\n",
      "Requirement already satisfied: gast!=0.5.0,!=0.5.1,!=0.5.2,>=0.2.1 in /home/duong/.local/lib/python3.10/site-packages (from tensorflow>=1.9.0->deepface) (0.6.0)\r\n",
      "Requirement already satisfied: google-pasta>=0.1.1 in /home/duong/.local/lib/python3.10/site-packages (from tensorflow>=1.9.0->deepface) (0.2.0)\r\n",
      "Requirement already satisfied: libclang>=13.0.0 in /home/duong/.local/lib/python3.10/site-packages (from tensorflow>=1.9.0->deepface) (18.1.1)\r\n",
      "Requirement already satisfied: opt-einsum>=2.3.2 in /home/duong/.local/lib/python3.10/site-packages (from tensorflow>=1.9.0->deepface) (3.3.0)\r\n",
      "Requirement already satisfied: protobuf!=4.21.0,!=4.21.1,!=4.21.2,!=4.21.3,!=4.21.4,!=4.21.5,<6.0.0dev,>=3.20.3 in /home/duong/.local/lib/python3.10/site-packages (from tensorflow>=1.9.0->deepface) (4.25.4)\r\n",
      "Requirement already satisfied: setuptools in /home/duong/.local/lib/python3.10/site-packages (from tensorflow>=1.9.0->deepface) (75.1.0)\r\n",
      "Requirement already satisfied: six>=1.12.0 in /usr/lib/python3/dist-packages (from tensorflow>=1.9.0->deepface) (1.16.0)\r\n",
      "Requirement already satisfied: typing-extensions>=3.6.6 in /home/duong/.local/lib/python3.10/site-packages (from tensorflow>=1.9.0->deepface) (4.9.0)\r\n",
      "Requirement already satisfied: wrapt>=1.11.0 in /home/duong/.local/lib/python3.10/site-packages (from tensorflow>=1.9.0->deepface) (1.16.0)\r\n",
      "Requirement already satisfied: grpcio<2.0,>=1.24.3 in /home/duong/.local/lib/python3.10/site-packages (from tensorflow>=1.9.0->deepface) (1.66.1)\r\n",
      "Requirement already satisfied: tensorboard<2.19,>=2.18 in /home/duong/.local/lib/python3.10/site-packages (from tensorflow>=1.9.0->deepface) (2.18.0)\r\n",
      "Requirement already satisfied: tensorflow-io-gcs-filesystem>=0.23.1 in /home/duong/.local/lib/python3.10/site-packages (from tensorflow>=1.9.0->deepface) (0.37.1)\r\n",
      "Requirement already satisfied: wheel<1.0,>=0.23.0 in /home/duong/.local/lib/python3.10/site-packages (from astunparse>=1.6.0->tensorflow>=1.9.0->deepface) (0.44.0)\r\n",
      "Requirement already satisfied: MarkupSafe>=2.0 in /home/duong/.local/lib/python3.10/site-packages (from Jinja2>=3.1.2->Flask>=1.1.2->deepface) (2.1.5)\r\n",
      "Requirement already satisfied: markdown>=2.6.8 in /home/duong/.local/lib/python3.10/site-packages (from tensorboard<2.19,>=2.18->tensorflow>=1.9.0->deepface) (3.7)\r\n",
      "Requirement already satisfied: tensorboard-data-server<0.8.0,>=0.7.0 in /home/duong/.local/lib/python3.10/site-packages (from tensorboard<2.19,>=2.18->tensorflow>=1.9.0->deepface) (0.7.2)\r\n",
      "Requirement already satisfied: soupsieve>1.2 in /home/duong/.local/lib/python3.10/site-packages (from beautifulsoup4->gdown>=3.10.1->deepface) (2.6)\r\n",
      "Requirement already satisfied: PySocks!=1.5.7,>=1.5.6 in /home/duong/.local/lib/python3.10/site-packages (from requests[socks]->gdown>=3.10.1->deepface) (1.7.1)\r\n",
      "Requirement already satisfied: markdown-it-py>=2.2.0 in /home/duong/.local/lib/python3.10/site-packages (from rich->keras>=2.2.0->deepface) (3.0.0)\r\n",
      "Requirement already satisfied: pygments<3.0.0,>=2.13.0 in /home/duong/.local/lib/python3.10/site-packages (from rich->keras>=2.2.0->deepface) (2.18.0)\r\n",
      "Requirement already satisfied: mdurl~=0.1 in /home/duong/.local/lib/python3.10/site-packages (from markdown-it-py>=2.2.0->rich->keras>=2.2.0->deepface) (0.1.2)\r\n"
     ]
    }
   ],
   "execution_count": 1
  },
  {
   "cell_type": "code",
   "source": [
    "!pip show deepface\n",
    "!python --version"
   ],
   "metadata": {
    "colab": {
     "base_uri": "https://localhost:8080/"
    },
    "id": "ZHw1o0CgkLs2",
    "outputId": "2e39e712-bf87-4232-8030-b66157f73264",
    "ExecuteTime": {
     "end_time": "2024-10-25T17:00:42.506663Z",
     "start_time": "2024-10-25T17:00:41.820436Z"
    }
   },
   "outputs": [
    {
     "name": "stdout",
     "output_type": "stream",
     "text": [
      "/bin/bash: warning: setlocale: LC_ALL: cannot change locale (en_US.UTF-8)\r\n",
      "Name: deepface\r\n",
      "Version: 0.0.93\r\n",
      "Summary: A Lightweight Face Recognition and Facial Attribute Analysis Framework (Age, Gender, Emotion, Race) for Python\r\n",
      "Home-page: https://github.com/serengil/deepface\r\n",
      "Author: Sefik Ilkin Serengil\r\n",
      "Author-email: serengil@gmail.com\r\n",
      "License: MIT\r\n",
      "Location: /home/duong/.local/lib/python3.10/site-packages\r\n",
      "Requires: fire, Flask, flask-cors, gdown, gunicorn, keras, mtcnn, numpy, opencv-python, pandas, Pillow, requests, retina-face, tensorflow, tqdm\r\n",
      "Required-by: \r\n",
      "/bin/bash: warning: setlocale: LC_ALL: cannot change locale (en_US.UTF-8)\r\n",
      "/bin/bash: line 1: python: command not found\r\n"
     ]
    }
   ],
   "execution_count": 2
  },
  {
   "cell_type": "code",
   "source": [
    "from deepface import DeepFace\n",
    "import matplotlib.pyplot as plt\n",
    "import cv2"
   ],
   "metadata": {
    "id": "RZd_bksP0Ql1",
    "colab": {
     "base_uri": "https://localhost:8080/"
    },
    "outputId": "f0b40f08-01a3-40a9-aa52-9ff24db4c984",
    "ExecuteTime": {
     "end_time": "2024-10-25T17:00:47.172745Z",
     "start_time": "2024-10-25T17:00:42.508116Z"
    }
   },
   "outputs": [
    {
     "name": "stderr",
     "output_type": "stream",
     "text": [
      "2024-10-26 00:00:44.062017: I tensorflow/core/util/port.cc:153] oneDNN custom operations are on. You may see slightly different numerical results due to floating-point round-off errors from different computation orders. To turn them off, set the environment variable `TF_ENABLE_ONEDNN_OPTS=0`.\n",
      "2024-10-26 00:00:44.564482: E external/local_xla/xla/stream_executor/cuda/cuda_fft.cc:477] Unable to register cuFFT factory: Attempting to register factory for plugin cuFFT when one has already been registered\n",
      "WARNING: All log messages before absl::InitializeLog() is called are written to STDERR\n",
      "E0000 00:00:1729875644.635150   80058 cuda_dnn.cc:8310] Unable to register cuDNN factory: Attempting to register factory for plugin cuDNN when one has already been registered\n",
      "E0000 00:00:1729875644.653379   80058 cuda_blas.cc:1418] Unable to register cuBLAS factory: Attempting to register factory for plugin cuBLAS when one has already been registered\n",
      "2024-10-26 00:00:44.809080: I tensorflow/core/platform/cpu_feature_guard.cc:210] This TensorFlow binary is optimized to use available CPU instructions in performance-critical operations.\n",
      "To enable the following instructions: AVX2 AVX512F AVX512_VNNI AVX512_BF16 FMA, in other operations, rebuild TensorFlow with the appropriate compiler flags.\n"
     ]
    },
    {
     "ename": "ModuleNotFoundError",
     "evalue": "No module named 'matplotlib'",
     "output_type": "error",
     "traceback": [
      "\u001B[0;31m---------------------------------------------------------------------------\u001B[0m",
      "\u001B[0;31mModuleNotFoundError\u001B[0m                       Traceback (most recent call last)",
      "Cell \u001B[0;32mIn[3], line 2\u001B[0m\n\u001B[1;32m      1\u001B[0m \u001B[38;5;28;01mfrom\u001B[39;00m \u001B[38;5;21;01mdeepface\u001B[39;00m \u001B[38;5;28;01mimport\u001B[39;00m DeepFace\n\u001B[0;32m----> 2\u001B[0m \u001B[38;5;28;01mimport\u001B[39;00m \u001B[38;5;21;01mmatplotlib\u001B[39;00m\u001B[38;5;21;01m.\u001B[39;00m\u001B[38;5;21;01mpyplot\u001B[39;00m \u001B[38;5;28;01mas\u001B[39;00m \u001B[38;5;21;01mplt\u001B[39;00m\n\u001B[1;32m      3\u001B[0m \u001B[38;5;28;01mimport\u001B[39;00m \u001B[38;5;21;01mcv2\u001B[39;00m\n",
      "\u001B[0;31mModuleNotFoundError\u001B[0m: No module named 'matplotlib'"
     ]
    }
   ],
   "execution_count": 3
  },
  {
   "cell_type": "code",
   "source": [
    "img1_path = \"/content/1.jpg\"\n",
    "img2_path = \"/content/ronaldo.jpg\""
   ],
   "metadata": {
    "id": "JziYPnJS0Xg7"
   },
   "outputs": [],
   "execution_count": null
  },
  {
   "source": [
    "img1 = cv2.imread(img1_path) # Use the correct image path from the img1_path variable\n",
    "img2 = cv2.imread(img2_path) # Use the correct image path from the img2_path variable\n",
    "img1 = cv2.cvtColor(img1, cv2.COLOR_BGR2RGB)\n",
    "img2 = cv2.cvtColor(img2, cv2.COLOR_BGR2RGB)"
   ],
   "cell_type": "code",
   "metadata": {
    "id": "M1H3EXPx1ELg"
   },
   "outputs": [],
   "execution_count": null
  },
  {
   "cell_type": "code",
   "source": [
    "plt.imshow(img1)\n",
    "plt.show()\n",
    "plt.imshow(img2)\n",
    "plt.show()"
   ],
   "metadata": {
    "colab": {
     "base_uri": "https://localhost:8080/",
     "height": 766
    },
    "id": "Uh_WxGyD1GVn",
    "outputId": "9bb7408f-7356-4f09-a474-06791f056ca6"
   },
   "outputs": [],
   "execution_count": null
  },
  {
   "cell_type": "code",
   "source": [
    "result = DeepFace.verify(img1_path ,img2_path,model_name = \"Facenet\")"
   ],
   "metadata": {
    "id": "HF2yY-Bq1K-3",
    "colab": {
     "base_uri": "https://localhost:8080/"
    },
    "outputId": "9380da22-46d4-43f5-d469-334e508665fd"
   },
   "outputs": [],
   "execution_count": null
  },
  {
   "cell_type": "code",
   "source": [
    "result"
   ],
   "metadata": {
    "colab": {
     "base_uri": "https://localhost:8080/"
    },
    "id": "tnZWFJ201eRQ",
    "outputId": "afeb6f19-29b6-4f8d-d2d7-34dbfaaa7308"
   },
   "outputs": [],
   "execution_count": null
  },
  {
   "cell_type": "code",
   "source": [
    "\n",
    "# Trích xuất đặc trưng khuôn mặt\n",
    "result = DeepFace.represent(img1_path, model_name='Facenet')\n",
    "\n",
    "# Kết quả trả về là một danh sách chứa đặc trưng của khuôn mặt\n",
    "print(result)\n"
   ],
   "metadata": {
    "colab": {
     "base_uri": "https://localhost:8080/"
    },
    "id": "hd28VrDr2SH1",
    "outputId": "ec0c9827-6023-4a36-a724-ee858d9a8fe6"
   },
   "outputs": [],
   "execution_count": null
  },
  {
   "cell_type": "code",
   "source": [
    "\n",
    "# Trích xuất đặc trưng khuôn mặt\n",
    "result_ebd = DeepFace.represent(img2_path, model_name='Facenet')\n",
    "\n",
    "# Kết quả trả về là một danh sách chứa đặc trưng của khuôn mặt\n",
    "print(result_ebd)"
   ],
   "metadata": {
    "colab": {
     "base_uri": "https://localhost:8080/"
    },
    "id": "3KqrO2n66kIw",
    "outputId": "2096a327-bb23-4fee-d718-4e5410ed1639"
   },
   "outputs": [],
   "execution_count": null
  },
  {
   "cell_type": "code",
   "source": [
    "import numpy as np\n",
    "from scipy.spatial.distance import cosine, euclidean\n",
    "\n",
    "# Ví dụ với cosine similarity\n",
    "embedding1 = result[0]['embedding']\n",
    "embedding2 = result_ebd[0]['embedding']\n",
    "\n",
    "similarity_cosine = cosine(embedding1, embedding2)\n",
    "similarity_euclidean = euclidean(embedding1, embedding2)\n",
    "\n",
    "print(f'Cosine Similarity: {similarity_cosine}')\n",
    "print(f'Euclidean Distance: {similarity_euclidean}')\n"
   ],
   "metadata": {
    "colab": {
     "base_uri": "https://localhost:8080/"
    },
    "id": "JrIy5eXW8k4i",
    "outputId": "93efcf3f-ce6f-43a2-df8d-2771b1ce35ff"
   },
   "outputs": [],
   "execution_count": null
  }
 ]
}
